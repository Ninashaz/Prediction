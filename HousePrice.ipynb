{
 "cells": [
  {
   "cell_type": "code",
   "execution_count": 90,
   "id": "9bf7da86",
   "metadata": {},
   "outputs": [],
   "source": [
    "import matplotlib.pyplot as plt\n",
    "import pandas as pd\n",
    "import pylab as pl\n",
    "import numpy as np\n",
    "%matplotlib inline\n",
    "import sweetviz as sv\n",
    "\n"
   ]
  },
  {
   "cell_type": "code",
   "execution_count": 3,
   "id": "d00393b3",
   "metadata": {},
   "outputs": [
    {
     "name": "stdout",
     "output_type": "stream",
     "text": [
      "--2022-12-05 09:27:03--  https://maktabkhooneh.org/media/courses/projects/1632300362534233.csv\n",
      "Resolving maktabkhooneh.org (maktabkhooneh.org)... 185.143.233.46, 185.143.234.46\n",
      "Connecting to maktabkhooneh.org (maktabkhooneh.org)|185.143.233.46|:443... connected.\n",
      "HTTP request sent, awaiting response... 200 OK\n",
      "Length: 190184 (186K) [application/octet-stream]\n",
      "Saving to: 'housePrice.csv'\n",
      "\n",
      "housePrice.csv      100%[===================>] 185.73K   167KB/s    in 1.1s    \n",
      "\n",
      "2022-12-05 09:27:06 (167 KB/s) - 'housePrice.csv' saved [190184/190184]\n",
      "\n"
     ]
    }
   ],
   "source": [
    "!wget -O housePrice.csv https://maktabkhooneh.org/media/courses/projects/1632300362534233.csv\n"
   ]
  },
  {
   "cell_type": "code",
   "execution_count": 95,
   "id": "ca80ea5a",
   "metadata": {},
   "outputs": [],
   "source": [
    "df = pd.read_csv(\"housePrice.csv\")"
   ]
  },
  {
   "cell_type": "code",
   "execution_count": 104,
   "id": "da4c3dd7",
   "metadata": {},
   "outputs": [
    {
     "data": {
      "text/plain": [
       "0        63\n",
       "1        60\n",
       "2        79\n",
       "3        95\n",
       "4       123\n",
       "       ... \n",
       "3474     86\n",
       "3475     83\n",
       "3476     75\n",
       "3477    105\n",
       "3478     82\n",
       "Name: Area, Length: 3456, dtype: object"
      ]
     },
     "execution_count": 104,
     "metadata": {},
     "output_type": "execute_result"
    }
   ],
   "source": [
    "df[\"Area\"].replace(\",\", \"\")"
   ]
  },
  {
   "cell_type": "code",
   "execution_count": 105,
   "id": "d1646173",
   "metadata": {},
   "outputs": [
    {
     "data": {
      "text/plain": [
       "(3456, 8)"
      ]
     },
     "execution_count": 105,
     "metadata": {},
     "output_type": "execute_result"
    }
   ],
   "source": [
    "df.dropna(inplace = True)\n",
    "df.shape \n"
   ]
  },
  {
   "cell_type": "code",
   "execution_count": 106,
   "id": "ee1e5985",
   "metadata": {},
   "outputs": [
    {
     "data": {
      "text/html": [
       "<div>\n",
       "<style scoped>\n",
       "    .dataframe tbody tr th:only-of-type {\n",
       "        vertical-align: middle;\n",
       "    }\n",
       "\n",
       "    .dataframe tbody tr th {\n",
       "        vertical-align: top;\n",
       "    }\n",
       "\n",
       "    .dataframe thead th {\n",
       "        text-align: right;\n",
       "    }\n",
       "</style>\n",
       "<table border=\"1\" class=\"dataframe\">\n",
       "  <thead>\n",
       "    <tr style=\"text-align: right;\">\n",
       "      <th></th>\n",
       "      <th>Room</th>\n",
       "      <th>Price</th>\n",
       "      <th>Price(USD)</th>\n",
       "    </tr>\n",
       "  </thead>\n",
       "  <tbody>\n",
       "    <tr>\n",
       "      <th>count</th>\n",
       "      <td>3456.000000</td>\n",
       "      <td>3.456000e+03</td>\n",
       "      <td>3.456000e+03</td>\n",
       "    </tr>\n",
       "    <tr>\n",
       "      <th>mean</th>\n",
       "      <td>2.081308</td>\n",
       "      <td>5.379957e+09</td>\n",
       "      <td>1.793319e+05</td>\n",
       "    </tr>\n",
       "    <tr>\n",
       "      <th>std</th>\n",
       "      <td>0.759723</td>\n",
       "      <td>8.121729e+09</td>\n",
       "      <td>2.707243e+05</td>\n",
       "    </tr>\n",
       "    <tr>\n",
       "      <th>min</th>\n",
       "      <td>0.000000</td>\n",
       "      <td>3.600000e+06</td>\n",
       "      <td>1.200000e+02</td>\n",
       "    </tr>\n",
       "    <tr>\n",
       "      <th>25%</th>\n",
       "      <td>2.000000</td>\n",
       "      <td>1.420000e+09</td>\n",
       "      <td>4.733333e+04</td>\n",
       "    </tr>\n",
       "    <tr>\n",
       "      <th>50%</th>\n",
       "      <td>2.000000</td>\n",
       "      <td>2.900000e+09</td>\n",
       "      <td>9.666667e+04</td>\n",
       "    </tr>\n",
       "    <tr>\n",
       "      <th>75%</th>\n",
       "      <td>2.000000</td>\n",
       "      <td>6.000000e+09</td>\n",
       "      <td>2.000000e+05</td>\n",
       "    </tr>\n",
       "    <tr>\n",
       "      <th>max</th>\n",
       "      <td>5.000000</td>\n",
       "      <td>9.240000e+10</td>\n",
       "      <td>3.080000e+06</td>\n",
       "    </tr>\n",
       "  </tbody>\n",
       "</table>\n",
       "</div>"
      ],
      "text/plain": [
       "              Room         Price    Price(USD)\n",
       "count  3456.000000  3.456000e+03  3.456000e+03\n",
       "mean      2.081308  5.379957e+09  1.793319e+05\n",
       "std       0.759723  8.121729e+09  2.707243e+05\n",
       "min       0.000000  3.600000e+06  1.200000e+02\n",
       "25%       2.000000  1.420000e+09  4.733333e+04\n",
       "50%       2.000000  2.900000e+09  9.666667e+04\n",
       "75%       2.000000  6.000000e+09  2.000000e+05\n",
       "max       5.000000  9.240000e+10  3.080000e+06"
      ]
     },
     "execution_count": 106,
     "metadata": {},
     "output_type": "execute_result"
    }
   ],
   "source": [
    "df.describe()"
   ]
  },
  {
   "cell_type": "code",
   "execution_count": 107,
   "id": "19e3d5f9",
   "metadata": {},
   "outputs": [],
   "source": [
    "df[\"Area\"] = [col.replace(',', '') for col in df[\"Area\"]]"
   ]
  },
  {
   "cell_type": "code",
   "execution_count": 108,
   "id": "51fe7d9e",
   "metadata": {},
   "outputs": [
    {
     "data": {
      "text/html": [
       "<div>\n",
       "<style scoped>\n",
       "    .dataframe tbody tr th:only-of-type {\n",
       "        vertical-align: middle;\n",
       "    }\n",
       "\n",
       "    .dataframe tbody tr th {\n",
       "        vertical-align: top;\n",
       "    }\n",
       "\n",
       "    .dataframe thead th {\n",
       "        text-align: right;\n",
       "    }\n",
       "</style>\n",
       "<table border=\"1\" class=\"dataframe\">\n",
       "  <thead>\n",
       "    <tr style=\"text-align: right;\">\n",
       "      <th></th>\n",
       "      <th>Room</th>\n",
       "      <th>Price</th>\n",
       "      <th>Price(USD)</th>\n",
       "    </tr>\n",
       "  </thead>\n",
       "  <tbody>\n",
       "    <tr>\n",
       "      <th>count</th>\n",
       "      <td>3456.000000</td>\n",
       "      <td>3.456000e+03</td>\n",
       "      <td>3.456000e+03</td>\n",
       "    </tr>\n",
       "    <tr>\n",
       "      <th>mean</th>\n",
       "      <td>2.081308</td>\n",
       "      <td>5.379957e+09</td>\n",
       "      <td>1.793319e+05</td>\n",
       "    </tr>\n",
       "    <tr>\n",
       "      <th>std</th>\n",
       "      <td>0.759723</td>\n",
       "      <td>8.121729e+09</td>\n",
       "      <td>2.707243e+05</td>\n",
       "    </tr>\n",
       "    <tr>\n",
       "      <th>min</th>\n",
       "      <td>0.000000</td>\n",
       "      <td>3.600000e+06</td>\n",
       "      <td>1.200000e+02</td>\n",
       "    </tr>\n",
       "    <tr>\n",
       "      <th>25%</th>\n",
       "      <td>2.000000</td>\n",
       "      <td>1.420000e+09</td>\n",
       "      <td>4.733333e+04</td>\n",
       "    </tr>\n",
       "    <tr>\n",
       "      <th>50%</th>\n",
       "      <td>2.000000</td>\n",
       "      <td>2.900000e+09</td>\n",
       "      <td>9.666667e+04</td>\n",
       "    </tr>\n",
       "    <tr>\n",
       "      <th>75%</th>\n",
       "      <td>2.000000</td>\n",
       "      <td>6.000000e+09</td>\n",
       "      <td>2.000000e+05</td>\n",
       "    </tr>\n",
       "    <tr>\n",
       "      <th>max</th>\n",
       "      <td>5.000000</td>\n",
       "      <td>9.240000e+10</td>\n",
       "      <td>3.080000e+06</td>\n",
       "    </tr>\n",
       "  </tbody>\n",
       "</table>\n",
       "</div>"
      ],
      "text/plain": [
       "              Room         Price    Price(USD)\n",
       "count  3456.000000  3.456000e+03  3.456000e+03\n",
       "mean      2.081308  5.379957e+09  1.793319e+05\n",
       "std       0.759723  8.121729e+09  2.707243e+05\n",
       "min       0.000000  3.600000e+06  1.200000e+02\n",
       "25%       2.000000  1.420000e+09  4.733333e+04\n",
       "50%       2.000000  2.900000e+09  9.666667e+04\n",
       "75%       2.000000  6.000000e+09  2.000000e+05\n",
       "max       5.000000  9.240000e+10  3.080000e+06"
      ]
     },
     "execution_count": 108,
     "metadata": {},
     "output_type": "execute_result"
    }
   ],
   "source": [
    "df.describe()"
   ]
  },
  {
   "cell_type": "code",
   "execution_count": 109,
   "id": "ec0a8f05",
   "metadata": {},
   "outputs": [
    {
     "data": {
      "text/html": [
       "<div>\n",
       "<style scoped>\n",
       "    .dataframe tbody tr th:only-of-type {\n",
       "        vertical-align: middle;\n",
       "    }\n",
       "\n",
       "    .dataframe tbody tr th {\n",
       "        vertical-align: top;\n",
       "    }\n",
       "\n",
       "    .dataframe thead th {\n",
       "        text-align: right;\n",
       "    }\n",
       "</style>\n",
       "<table border=\"1\" class=\"dataframe\">\n",
       "  <thead>\n",
       "    <tr style=\"text-align: right;\">\n",
       "      <th></th>\n",
       "      <th>Area</th>\n",
       "      <th>Room</th>\n",
       "      <th>Address</th>\n",
       "      <th>Price</th>\n",
       "      <th>Price(USD)</th>\n",
       "    </tr>\n",
       "  </thead>\n",
       "  <tbody>\n",
       "    <tr>\n",
       "      <th>count</th>\n",
       "      <td>3456</td>\n",
       "      <td>3456.000000</td>\n",
       "      <td>3456</td>\n",
       "      <td>3.456000e+03</td>\n",
       "      <td>3.456000e+03</td>\n",
       "    </tr>\n",
       "    <tr>\n",
       "      <th>unique</th>\n",
       "      <td>243</td>\n",
       "      <td>NaN</td>\n",
       "      <td>192</td>\n",
       "      <td>NaN</td>\n",
       "      <td>NaN</td>\n",
       "    </tr>\n",
       "    <tr>\n",
       "      <th>top</th>\n",
       "      <td>75</td>\n",
       "      <td>NaN</td>\n",
       "      <td>Punak</td>\n",
       "      <td>NaN</td>\n",
       "      <td>NaN</td>\n",
       "    </tr>\n",
       "    <tr>\n",
       "      <th>freq</th>\n",
       "      <td>111</td>\n",
       "      <td>NaN</td>\n",
       "      <td>161</td>\n",
       "      <td>NaN</td>\n",
       "      <td>NaN</td>\n",
       "    </tr>\n",
       "    <tr>\n",
       "      <th>mean</th>\n",
       "      <td>NaN</td>\n",
       "      <td>2.081308</td>\n",
       "      <td>NaN</td>\n",
       "      <td>5.379957e+09</td>\n",
       "      <td>1.793319e+05</td>\n",
       "    </tr>\n",
       "    <tr>\n",
       "      <th>std</th>\n",
       "      <td>NaN</td>\n",
       "      <td>0.759723</td>\n",
       "      <td>NaN</td>\n",
       "      <td>8.121729e+09</td>\n",
       "      <td>2.707243e+05</td>\n",
       "    </tr>\n",
       "    <tr>\n",
       "      <th>min</th>\n",
       "      <td>NaN</td>\n",
       "      <td>0.000000</td>\n",
       "      <td>NaN</td>\n",
       "      <td>3.600000e+06</td>\n",
       "      <td>1.200000e+02</td>\n",
       "    </tr>\n",
       "    <tr>\n",
       "      <th>20%</th>\n",
       "      <td>NaN</td>\n",
       "      <td>2.000000</td>\n",
       "      <td>NaN</td>\n",
       "      <td>1.120000e+09</td>\n",
       "      <td>3.733333e+04</td>\n",
       "    </tr>\n",
       "    <tr>\n",
       "      <th>40%</th>\n",
       "      <td>NaN</td>\n",
       "      <td>2.000000</td>\n",
       "      <td>NaN</td>\n",
       "      <td>2.200000e+09</td>\n",
       "      <td>7.333333e+04</td>\n",
       "    </tr>\n",
       "    <tr>\n",
       "      <th>50%</th>\n",
       "      <td>NaN</td>\n",
       "      <td>2.000000</td>\n",
       "      <td>NaN</td>\n",
       "      <td>2.900000e+09</td>\n",
       "      <td>9.666667e+04</td>\n",
       "    </tr>\n",
       "    <tr>\n",
       "      <th>60%</th>\n",
       "      <td>NaN</td>\n",
       "      <td>2.000000</td>\n",
       "      <td>NaN</td>\n",
       "      <td>3.600000e+09</td>\n",
       "      <td>1.200000e+05</td>\n",
       "    </tr>\n",
       "    <tr>\n",
       "      <th>80%</th>\n",
       "      <td>NaN</td>\n",
       "      <td>3.000000</td>\n",
       "      <td>NaN</td>\n",
       "      <td>7.485000e+09</td>\n",
       "      <td>2.495000e+05</td>\n",
       "    </tr>\n",
       "    <tr>\n",
       "      <th>max</th>\n",
       "      <td>NaN</td>\n",
       "      <td>5.000000</td>\n",
       "      <td>NaN</td>\n",
       "      <td>9.240000e+10</td>\n",
       "      <td>3.080000e+06</td>\n",
       "    </tr>\n",
       "  </tbody>\n",
       "</table>\n",
       "</div>"
      ],
      "text/plain": [
       "        Area         Room Address         Price    Price(USD)\n",
       "count   3456  3456.000000    3456  3.456000e+03  3.456000e+03\n",
       "unique   243          NaN     192           NaN           NaN\n",
       "top       75          NaN   Punak           NaN           NaN\n",
       "freq     111          NaN     161           NaN           NaN\n",
       "mean     NaN     2.081308     NaN  5.379957e+09  1.793319e+05\n",
       "std      NaN     0.759723     NaN  8.121729e+09  2.707243e+05\n",
       "min      NaN     0.000000     NaN  3.600000e+06  1.200000e+02\n",
       "20%      NaN     2.000000     NaN  1.120000e+09  3.733333e+04\n",
       "40%      NaN     2.000000     NaN  2.200000e+09  7.333333e+04\n",
       "50%      NaN     2.000000     NaN  2.900000e+09  9.666667e+04\n",
       "60%      NaN     2.000000     NaN  3.600000e+09  1.200000e+05\n",
       "80%      NaN     3.000000     NaN  7.485000e+09  2.495000e+05\n",
       "max      NaN     5.000000     NaN  9.240000e+10  3.080000e+06"
      ]
     },
     "execution_count": 109,
     "metadata": {},
     "output_type": "execute_result"
    }
   ],
   "source": [
    "desc = df.describe(percentiles = perc, include = include)\n",
    "desc"
   ]
  },
  {
   "cell_type": "code",
   "execution_count": 89,
   "id": "a3f39a63",
   "metadata": {},
   "outputs": [
    {
     "data": {
      "text/plain": [
       "count     3456\n",
       "unique     243\n",
       "top         75\n",
       "freq       111\n",
       "Name: Area, dtype: object"
      ]
     },
     "execution_count": 89,
     "metadata": {},
     "output_type": "execute_result"
    }
   ],
   "source": [
    "des = df[\"Area\"].describe()\n",
    "des"
   ]
  },
  {
   "cell_type": "code",
   "execution_count": 50,
   "id": "6a2c2fe9",
   "metadata": {},
   "outputs": [
    {
     "name": "stderr",
     "output_type": "stream",
     "text": [
      "/var/folders/0h/yv41lzm11wx3q8mwnf6tdx540000gn/T/ipykernel_65314/751320408.py:1: FutureWarning: The default value of regex will change from True to False in a future version.\n",
      "  df['Area'] = df.Area.str.replace(r\"[a-zA-Z]\",'')\n"
     ]
    }
   ],
   "source": [
    "df['Area'] = df.Area.str.replace(r\"[a-zA-Z]\",'')"
   ]
  },
  {
   "cell_type": "code",
   "execution_count": 51,
   "id": "1d7ed034",
   "metadata": {},
   "outputs": [
    {
     "data": {
      "text/plain": [
       "count     3456\n",
       "unique     243\n",
       "top         75\n",
       "freq       111\n",
       "Name: Area, dtype: object"
      ]
     },
     "execution_count": 51,
     "metadata": {},
     "output_type": "execute_result"
    }
   ],
   "source": [
    "des = df[\"Area\"].describe()\n",
    "des"
   ]
  },
  {
   "cell_type": "code",
   "execution_count": 57,
   "id": "46142da1",
   "metadata": {},
   "outputs": [],
   "source": [
    "df['Area'] = df['Area'].apply(lambda x: str(x).replace(\",\",\"\"))\n"
   ]
  },
  {
   "cell_type": "code",
   "execution_count": 58,
   "id": "df4f8679",
   "metadata": {},
   "outputs": [
    {
     "data": {
      "text/plain": [
       "count     3456\n",
       "unique     243\n",
       "top         75\n",
       "freq       111\n",
       "Name: Area, dtype: object"
      ]
     },
     "execution_count": 58,
     "metadata": {},
     "output_type": "execute_result"
    }
   ],
   "source": [
    "des = df[\"Area\"].describe()\n",
    "des"
   ]
  },
  {
   "cell_type": "code",
   "execution_count": null,
   "id": "89f0824a",
   "metadata": {},
   "outputs": [],
   "source": []
  }
 ],
 "metadata": {
  "kernelspec": {
   "display_name": "Python 3 (ipykernel)",
   "language": "python",
   "name": "python3"
  },
  "language_info": {
   "codemirror_mode": {
    "name": "ipython",
    "version": 3
   },
   "file_extension": ".py",
   "mimetype": "text/x-python",
   "name": "python",
   "nbconvert_exporter": "python",
   "pygments_lexer": "ipython3",
   "version": "3.9.13"
  }
 },
 "nbformat": 4,
 "nbformat_minor": 5
}
